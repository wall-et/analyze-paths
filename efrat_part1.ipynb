{
 "cells": [
  {
   "cell_type": "code",
   "execution_count": 1,
   "metadata": {},
   "outputs": [],
   "source": [
    "import pandas as pd"
   ]
  },
  {
   "cell_type": "code",
   "execution_count": 8,
   "metadata": {},
   "outputs": [],
   "source": [
    "cols = [\"frame\", \"x\", \"y\", \"obj\",\"size\",\"seq\",\"tbd1\",\"tbd2\",\"tbd3\",\"filename\",\"start\",\"path_time\",\"delta_time\",\"tbd4\"]"
   ]
  },
  {
   "cell_type": "code",
   "execution_count": 14,
   "metadata": {},
   "outputs": [
    {
     "name": "stdout",
     "output_type": "stream",
     "text": [
      "Wall time: 12.6 s\n"
     ]
    }
   ],
   "source": [
    "%time points = pd.read_csv(\"data/fixed.csv\",names=cols,usecols=[\"frame\", \"x\", \"y\", \"obj\",\"size\",\"seq\",\"filename\",\"start\",\"path_time\",\"delta_time\"])"
   ]
  },
  {
   "cell_type": "code",
   "execution_count": 15,
   "metadata": {},
   "outputs": [
    {
     "name": "stdout",
     "output_type": "stream",
     "text": [
      "<class 'pandas.core.frame.DataFrame'>\n",
      "RangeIndex: 2997978 entries, 0 to 2997977\n",
      "Data columns (total 10 columns):\n",
      "frame         int64\n",
      "x             int64\n",
      "y             int64\n",
      "obj           int64\n",
      "size          int64\n",
      "seq           int64\n",
      "filename      object\n",
      "start         object\n",
      "path_time     object\n",
      "delta_time    object\n",
      "dtypes: int64(6), object(4)\n",
      "memory usage: 671.8 MB\n"
     ]
    }
   ],
   "source": [
    "points.info(memory_usage='deep')"
   ]
  },
  {
   "cell_type": "code",
   "execution_count": 16,
   "metadata": {},
   "outputs": [
    {
     "data": {
      "text/plain": [
       "2997978"
      ]
     },
     "execution_count": 16,
     "metadata": {},
     "output_type": "execute_result"
    }
   ],
   "source": [
    "len(points)"
   ]
  },
  {
   "cell_type": "code",
   "execution_count": 17,
   "metadata": {},
   "outputs": [
    {
     "data": {
      "text/html": [
       "<div>\n",
       "<style scoped>\n",
       "    .dataframe tbody tr th:only-of-type {\n",
       "        vertical-align: middle;\n",
       "    }\n",
       "\n",
       "    .dataframe tbody tr th {\n",
       "        vertical-align: top;\n",
       "    }\n",
       "\n",
       "    .dataframe thead th {\n",
       "        text-align: right;\n",
       "    }\n",
       "</style>\n",
       "<table border=\"1\" class=\"dataframe\">\n",
       "  <thead>\n",
       "    <tr style=\"text-align: right;\">\n",
       "      <th></th>\n",
       "      <th>frame</th>\n",
       "      <th>x</th>\n",
       "      <th>y</th>\n",
       "      <th>obj</th>\n",
       "      <th>size</th>\n",
       "      <th>seq</th>\n",
       "    </tr>\n",
       "  </thead>\n",
       "  <tbody>\n",
       "    <tr>\n",
       "      <th>count</th>\n",
       "      <td>2.997978e+06</td>\n",
       "      <td>2.997978e+06</td>\n",
       "      <td>2.997978e+06</td>\n",
       "      <td>2.997978e+06</td>\n",
       "      <td>2.997978e+06</td>\n",
       "      <td>2.997978e+06</td>\n",
       "    </tr>\n",
       "    <tr>\n",
       "      <th>mean</th>\n",
       "      <td>8.289597e+03</td>\n",
       "      <td>2.730162e+02</td>\n",
       "      <td>1.480890e+02</td>\n",
       "      <td>5.053649e+01</td>\n",
       "      <td>4.675812e+07</td>\n",
       "      <td>1.158957e+02</td>\n",
       "    </tr>\n",
       "    <tr>\n",
       "      <th>std</th>\n",
       "      <td>5.189151e+03</td>\n",
       "      <td>1.609973e+02</td>\n",
       "      <td>7.650775e+01</td>\n",
       "      <td>8.449937e+01</td>\n",
       "      <td>3.391170e+07</td>\n",
       "      <td>1.502103e+02</td>\n",
       "    </tr>\n",
       "    <tr>\n",
       "      <th>min</th>\n",
       "      <td>0.000000e+00</td>\n",
       "      <td>3.000000e+00</td>\n",
       "      <td>3.000000e+00</td>\n",
       "      <td>0.000000e+00</td>\n",
       "      <td>3.620000e+02</td>\n",
       "      <td>0.000000e+00</td>\n",
       "    </tr>\n",
       "    <tr>\n",
       "      <th>25%</th>\n",
       "      <td>3.712000e+03</td>\n",
       "      <td>1.440000e+02</td>\n",
       "      <td>9.500000e+01</td>\n",
       "      <td>1.200000e+01</td>\n",
       "      <td>1.419073e+07</td>\n",
       "      <td>1.600000e+01</td>\n",
       "    </tr>\n",
       "    <tr>\n",
       "      <th>50%</th>\n",
       "      <td>8.119000e+03</td>\n",
       "      <td>2.690000e+02</td>\n",
       "      <td>1.340000e+02</td>\n",
       "      <td>2.800000e+01</td>\n",
       "      <td>4.510348e+07</td>\n",
       "      <td>5.900000e+01</td>\n",
       "    </tr>\n",
       "    <tr>\n",
       "      <th>75%</th>\n",
       "      <td>1.263600e+04</td>\n",
       "      <td>4.020000e+02</td>\n",
       "      <td>2.050000e+02</td>\n",
       "      <td>5.100000e+01</td>\n",
       "      <td>5.399656e+07</td>\n",
       "      <td>1.620000e+02</td>\n",
       "    </tr>\n",
       "    <tr>\n",
       "      <th>max</th>\n",
       "      <td>1.847600e+04</td>\n",
       "      <td>6.370000e+02</td>\n",
       "      <td>3.570000e+02</td>\n",
       "      <td>6.430000e+02</td>\n",
       "      <td>1.265195e+08</td>\n",
       "      <td>1.977000e+03</td>\n",
       "    </tr>\n",
       "  </tbody>\n",
       "</table>\n",
       "</div>"
      ],
      "text/plain": [
       "              frame             x             y           obj          size  \\\n",
       "count  2.997978e+06  2.997978e+06  2.997978e+06  2.997978e+06  2.997978e+06   \n",
       "mean   8.289597e+03  2.730162e+02  1.480890e+02  5.053649e+01  4.675812e+07   \n",
       "std    5.189151e+03  1.609973e+02  7.650775e+01  8.449937e+01  3.391170e+07   \n",
       "min    0.000000e+00  3.000000e+00  3.000000e+00  0.000000e+00  3.620000e+02   \n",
       "25%    3.712000e+03  1.440000e+02  9.500000e+01  1.200000e+01  1.419073e+07   \n",
       "50%    8.119000e+03  2.690000e+02  1.340000e+02  2.800000e+01  4.510348e+07   \n",
       "75%    1.263600e+04  4.020000e+02  2.050000e+02  5.100000e+01  5.399656e+07   \n",
       "max    1.847600e+04  6.370000e+02  3.570000e+02  6.430000e+02  1.265195e+08   \n",
       "\n",
       "                seq  \n",
       "count  2.997978e+06  \n",
       "mean   1.158957e+02  \n",
       "std    1.502103e+02  \n",
       "min    0.000000e+00  \n",
       "25%    1.600000e+01  \n",
       "50%    5.900000e+01  \n",
       "75%    1.620000e+02  \n",
       "max    1.977000e+03  "
      ]
     },
     "execution_count": 17,
     "metadata": {},
     "output_type": "execute_result"
    }
   ],
   "source": [
    "points.describe()"
   ]
  },
  {
   "cell_type": "code",
   "execution_count": null,
   "metadata": {},
   "outputs": [],
   "source": []
  },
  {
   "cell_type": "code",
   "execution_count": null,
   "metadata": {},
   "outputs": [],
   "source": [
    "points"
   ]
  },
  {
   "cell_type": "code",
   "execution_count": null,
   "metadata": {},
   "outputs": [],
   "source": []
  }
 ],
 "metadata": {
  "kernelspec": {
   "display_name": "Python 3",
   "language": "python",
   "name": "python3"
  },
  "language_info": {
   "codemirror_mode": {
    "name": "ipython",
    "version": 3
   },
   "file_extension": ".py",
   "mimetype": "text/x-python",
   "name": "python",
   "nbconvert_exporter": "python",
   "pygments_lexer": "ipython3",
   "version": "3.7.0"
  }
 },
 "nbformat": 4,
 "nbformat_minor": 2
}
