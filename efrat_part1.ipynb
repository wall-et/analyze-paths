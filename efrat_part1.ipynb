{
 "cells": [
  {
   "cell_type": "code",
   "execution_count": 1,
   "metadata": {},
   "outputs": [],
   "source": [
    "import pandas as pd"
   ]
  },
  {
   "cell_type": "code",
   "execution_count": 2,
   "metadata": {},
   "outputs": [],
   "source": [
    "cols = [\"frame\", \"x\", \"y\", \"obj\",\"size\",\"seq\",\"tbd1\",\"tbd2\",\"tbd3\",\"filename\",\"start\",\"path_time\",\"delta_time\",\"tbd4\"]\n",
    "useful_cols = [\"frame\", \"x\", \"y\", \"obj\",\"size\",\"seq\",\"filename\",\"start\",\"path_time\",\"delta_time\"]"
   ]
  },
  {
   "cell_type": "code",
   "execution_count": 3,
   "metadata": {},
   "outputs": [
    {
     "name": "stdout",
     "output_type": "stream",
     "text": [
      "Wall time: 16.8 s\n"
     ]
    }
   ],
   "source": [
    "%time points = pd.read_csv(\"data/fixed.csv\",names=cols,usecols=useful_cols,parse_dates=['start'])"
   ]
  },
  {
   "cell_type": "code",
   "execution_count": 4,
   "metadata": {},
   "outputs": [
    {
     "name": "stdout",
     "output_type": "stream",
     "text": [
      "<class 'pandas.core.frame.DataFrame'>\n",
      "RangeIndex: 2997978 entries, 0 to 2997977\n",
      "Data columns (total 10 columns):\n",
      "frame         int64\n",
      "x             int64\n",
      "y             int64\n",
      "obj           int64\n",
      "size          int64\n",
      "seq           int64\n",
      "filename      object\n",
      "start         datetime64[ns]\n",
      "path_time     object\n",
      "delta_time    object\n",
      "dtypes: datetime64[ns](1), int64(6), object(3)\n",
      "memory usage: 554.6 MB\n"
     ]
    }
   ],
   "source": [
    "points.info(memory_usage='deep')"
   ]
  },
  {
   "cell_type": "code",
   "execution_count": null,
   "metadata": {},
   "outputs": [],
   "source": [
    "# points.info()\n",
    "# len(points)\n",
    "# points.describe()\n",
    "points.head(50)"
   ]
  },
  {
   "cell_type": "code",
   "execution_count": 6,
   "metadata": {},
   "outputs": [
    {
     "data": {
      "text/plain": [
       "start\n",
       "2017-08-17 01:27:09      7311\n",
       "2017-08-17 01:42:25      9902\n",
       "2017-08-17 01:57:38    120780\n",
       "2017-08-17 02:12:50      5034\n",
       "2017-08-17 02:28:03      4961\n",
       "2017-08-17 02:43:14      4042\n",
       "2017-08-17 02:58:24      9170\n",
       "2017-08-17 03:13:37      6694\n",
       "2017-08-17 03:28:49      6448\n",
       "2017-08-17 03:44:03      2371\n",
       "2017-08-17 03:59:13      2392\n",
       "2017-08-17 04:14:23      2465\n",
       "2017-08-17 04:29:40      2730\n",
       "2017-08-17 04:45:12      2562\n",
       "2017-08-17 05:00:24       627\n",
       "2017-08-17 05:15:36      2908\n",
       "2017-08-17 05:30:48      1728\n",
       "2017-08-17 05:46:01      1619\n",
       "2017-08-17 06:01:15       330\n",
       "2017-08-17 06:16:30       712\n",
       "2017-08-17 06:31:49       503\n",
       "2017-08-17 06:47:02         5\n",
       "2017-08-17 07:02:14         9\n",
       "2017-08-17 07:17:25         3\n",
       "2017-08-17 07:32:37       859\n",
       "2017-08-17 07:48:15       808\n",
       "2017-08-17 08:03:27         5\n",
       "2017-08-17 08:18:51         5\n",
       "2017-08-17 08:34:05         4\n",
       "2017-08-17 08:49:19         3\n",
       "                        ...  \n",
       "2017-08-24 08:18:53      5519\n",
       "2017-08-24 08:33:08     26717\n",
       "2017-08-24 08:34:05      2354\n",
       "2017-08-24 08:48:19     21960\n",
       "2017-08-24 09:03:34     15062\n",
       "2017-08-24 09:18:50      8205\n",
       "2017-08-24 09:33:59      6465\n",
       "2017-08-24 09:49:08      8136\n",
       "2017-08-24 10:04:18      6036\n",
       "2017-08-24 10:19:27      9373\n",
       "2017-08-24 10:34:36     10835\n",
       "2017-08-24 10:49:46     14765\n",
       "2017-08-24 11:04:55     12385\n",
       "2017-08-24 11:20:05      8522\n",
       "2017-08-24 11:35:16      4601\n",
       "2017-08-24 11:50:30     11360\n",
       "2017-08-24 12:05:45      5856\n",
       "2017-08-24 12:20:55     18283\n",
       "2017-08-24 12:36:04      9447\n",
       "2017-08-24 12:51:14     11880\n",
       "2017-08-24 13:06:23     12884\n",
       "2017-08-24 13:21:33      5010\n",
       "2017-08-24 13:36:42     10574\n",
       "2017-08-24 13:51:52      9971\n",
       "2017-08-24 14:07:03      8742\n",
       "2017-08-24 14:22:14      5687\n",
       "2017-08-24 14:37:29      4049\n",
       "2017-08-24 14:52:44      6584\n",
       "2017-08-24 15:07:53      2306\n",
       "2017-08-24 15:23:02      3585\n",
       "Length: 489, dtype: int64"
      ]
     },
     "execution_count": 6,
     "metadata": {},
     "output_type": "execute_result"
    }
   ],
   "source": [
    "p = points\n",
    "p.groupby(p.start).size()"
   ]
  },
  {
   "cell_type": "code",
   "execution_count": 7,
   "metadata": {},
   "outputs": [
    {
     "name": "stdout",
     "output_type": "stream",
     "text": [
      "Average memory usage for int64 columns: 19.61 MB\n",
      "Average memory usage for object columns: 98.61 MB\n"
     ]
    }
   ],
   "source": [
    "for dtype in ['int64','object']:\n",
    "    selected_dtype = p.select_dtypes(include=[dtype])\n",
    "    mean_usage_b = selected_dtype.memory_usage(deep=True).mean()\n",
    "    mean_usage_mb = mean_usage_b / 1024 ** 2\n",
    "    print(\"Average memory usage for {} columns: {:03.2f} MB\".format(dtype,mean_usage_mb))"
   ]
  },
  {
   "cell_type": "code",
   "execution_count": 8,
   "metadata": {},
   "outputs": [],
   "source": [
    "def mem_usage(pandas_obj):\n",
    "    if isinstance(pandas_obj,pd.DataFrame):\n",
    "        usage_b = pandas_obj.memory_usage(deep=True).sum()\n",
    "    else: # we assume if not a df it's a series\n",
    "        usage_b = pandas_obj.memory_usage(deep=True)\n",
    "    usage_mb = usage_b / 1024 ** 2 # convert bytes to megabytes\n",
    "    return \"{:03.2f} MB\".format(usage_mb)"
   ]
  },
  {
   "cell_type": "code",
   "execution_count": 9,
   "metadata": {},
   "outputs": [
    {
     "name": "stdout",
     "output_type": "stream",
     "text": [
      "137.24 MB\n",
      "40.03 MB\n"
     ]
    }
   ],
   "source": [
    "p_int = points.select_dtypes(include=['int64'])\n",
    "converted_int = p_int.apply(pd.to_numeric,downcast='unsigned')\n",
    "print(mem_usage(p_int))\n",
    "print(mem_usage(converted_int))"
   ]
  },
  {
   "cell_type": "code",
   "execution_count": 10,
   "metadata": {},
   "outputs": [
    {
     "data": {
      "text/html": [
       "<div>\n",
       "<style scoped>\n",
       "    .dataframe tbody tr th:only-of-type {\n",
       "        vertical-align: middle;\n",
       "    }\n",
       "\n",
       "    .dataframe tbody tr th {\n",
       "        vertical-align: top;\n",
       "    }\n",
       "\n",
       "    .dataframe thead th {\n",
       "        text-align: right;\n",
       "    }\n",
       "</style>\n",
       "<table border=\"1\" class=\"dataframe\">\n",
       "  <thead>\n",
       "    <tr style=\"text-align: right;\">\n",
       "      <th></th>\n",
       "      <th>before</th>\n",
       "      <th>after</th>\n",
       "    </tr>\n",
       "  </thead>\n",
       "  <tbody>\n",
       "    <tr>\n",
       "      <th>uint16</th>\n",
       "      <td>NaN</td>\n",
       "      <td>5.0</td>\n",
       "    </tr>\n",
       "    <tr>\n",
       "      <th>uint32</th>\n",
       "      <td>NaN</td>\n",
       "      <td>1.0</td>\n",
       "    </tr>\n",
       "    <tr>\n",
       "      <th>int64</th>\n",
       "      <td>6.0</td>\n",
       "      <td>NaN</td>\n",
       "    </tr>\n",
       "  </tbody>\n",
       "</table>\n",
       "</div>"
      ],
      "text/plain": [
       "        before  after\n",
       "uint16     NaN    5.0\n",
       "uint32     NaN    1.0\n",
       "int64      6.0    NaN"
      ]
     },
     "execution_count": 10,
     "metadata": {},
     "output_type": "execute_result"
    }
   ],
   "source": [
    "compare_ints = pd.concat([p_int.dtypes,converted_int.dtypes],axis=1)\n",
    "compare_ints.columns = ['before','after']\n",
    "compare_ints.apply(pd.Series.value_counts)"
   ]
  },
  {
   "cell_type": "code",
   "execution_count": 12,
   "metadata": {},
   "outputs": [
    {
     "name": "stdout",
     "output_type": "stream",
     "text": [
      "554.57 MB\n",
      "457.36 MB\n"
     ]
    }
   ],
   "source": [
    "optimized_p = p.copy()\n",
    "\n",
    "optimized_p[converted_int.columns] = converted_int\n",
    "\n",
    "print(mem_usage(p))\n",
    "print(mem_usage(optimized_p))"
   ]
  },
  {
   "cell_type": "code",
   "execution_count": 13,
   "metadata": {},
   "outputs": [
    {
     "name": "stdout",
     "output_type": "stream",
     "text": [
      "{   'delta_time': 'object',\n",
      "    'filename': 'object',\n",
      "    'frame': 'uint16',\n",
      "    'obj': 'uint16',\n",
      "    'path_time': 'object',\n",
      "    'seq': 'uint16',\n",
      "    'size': 'uint32',\n",
      "    'start': 'datetime64[ns]',\n",
      "    'x': 'uint16',\n",
      "    'y': 'uint16'}\n"
     ]
    }
   ],
   "source": [
    "dtypes = optimized_p.dtypes\n",
    "\n",
    "dtypes_col = dtypes.index\n",
    "dtypes_type = [i.name for i in dtypes.values]\n",
    "\n",
    "column_types = dict(zip(dtypes_col, dtypes_type))\n",
    "\n",
    "# rather than print all 161 items, we'll\n",
    "# sample 10 key/value pairs from the dict\n",
    "# and print it nicely using prettyprint\n",
    "\n",
    "preview = first2pairs = {key:value for key,value in list(column_types.items())[:10]}\n",
    "import pprint\n",
    "pp = pp = pprint.PrettyPrinter(indent=4)\n",
    "pp.pprint(preview)"
   ]
  },
  {
   "cell_type": "code",
   "execution_count": null,
   "metadata": {},
   "outputs": [],
   "source": [
    "p_obj = p.select_dtypes(include=['object']).copy()\n",
    "p_obj.describe()"
   ]
  },
  {
   "cell_type": "code",
   "execution_count": null,
   "metadata": {},
   "outputs": [],
   "source": [
    "fn = p_obj.filename\n",
    "fn_cat = fn.astype('category')\n",
    "print(fn_cat.head())\n"
   ]
  },
  {
   "cell_type": "code",
   "execution_count": null,
   "metadata": {},
   "outputs": [],
   "source": [
    "fn_cat.head().cat.codes"
   ]
  },
  {
   "cell_type": "code",
   "execution_count": null,
   "metadata": {},
   "outputs": [],
   "source": [
    "print(mem_usage(fn))\n",
    "print(mem_usage(fn_cat))\n"
   ]
  },
  {
   "cell_type": "code",
   "execution_count": null,
   "metadata": {},
   "outputs": [],
   "source": []
  },
  {
   "cell_type": "code",
   "execution_count": null,
   "metadata": {},
   "outputs": [],
   "source": []
  },
  {
   "cell_type": "code",
   "execution_count": null,
   "metadata": {},
   "outputs": [],
   "source": [
    "converted_obj = pd.DataFrame()\n",
    "\n",
    "for col in p_obj.columns:\n",
    "    num_unique_values = len(p_obj[col].unique())\n",
    "    num_total_values = len(p_obj[col])\n",
    "    if num_unique_values / num_total_values < 0.5:\n",
    "        converted_obj.loc[:,col] = p_obj[col].astype('category')\n",
    "    else:\n",
    "        converted_obj.loc[:,col] = p_obj[col]"
   ]
  },
  {
   "cell_type": "code",
   "execution_count": null,
   "metadata": {},
   "outputs": [],
   "source": [
    "optimized_p[converted_obj.columns] = converted_obj\n",
    "\n",
    "mem_usage(optimized_p)"
   ]
  },
  {
   "cell_type": "code",
   "execution_count": null,
   "metadata": {},
   "outputs": [],
   "source": [
    "print(mem_usage(p_obj))\n",
    "print(mem_usage(converted_obj))\n",
    "\n",
    "compare_obj = pd.concat([p_obj.dtypes,converted_obj.dtypes],axis=1)\n",
    "compare_obj.columns = ['before','after']\n",
    "compare_obj.apply(pd.Series.value_counts)"
   ]
  },
  {
   "cell_type": "code",
   "execution_count": null,
   "metadata": {},
   "outputs": [],
   "source": [
    "converted_obj.info(memory_usage='deep')"
   ]
  },
  {
   "cell_type": "code",
   "execution_count": null,
   "metadata": {},
   "outputs": [],
   "source": [
    "dtypes = optimized_p.dtypes\n",
    "\n",
    "dtypes_col = dtypes.index\n",
    "dtypes_type = [i.name for i in dtypes.values]\n",
    "\n",
    "column_types = dict(zip(dtypes_col, dtypes_type))\n",
    "\n",
    "# rather than print all 161 items, we'll\n",
    "# sample 10 key/value pairs from the dict\n",
    "# and print it nicely using prettyprint\n",
    "\n",
    "preview = first2pairs = {key:value for key,value in list(column_types.items())[:10]}\n",
    "import pprint\n",
    "pp = pp = pprint.PrettyPrinter(indent=4)\n",
    "pp.pprint(preview)"
   ]
  },
  {
   "cell_type": "code",
   "execution_count": 20,
   "metadata": {},
   "outputs": [],
   "source": [
    "cols_types = dict({   \n",
    "    'delta_time': 'object',\n",
    "    'filename': 'category',\n",
    "    'frame': 'uint16',\n",
    "    'obj': 'uint16',\n",
    "    'path_time': 'object',\n",
    "    'seq': 'uint16',\n",
    "    'size': 'uint32',\n",
    "    'x': 'uint16',\n",
    "    'y': 'uint16'})"
   ]
  },
  {
   "cell_type": "code",
   "execution_count": 22,
   "metadata": {},
   "outputs": [
    {
     "name": "stdout",
     "output_type": "stream",
     "text": [
      "283.10 MB\n",
      "Wall time: 25.9 s\n"
     ]
    }
   ],
   "source": [
    "%%time \n",
    "read_and_optimized = pd.read_csv('data/fixed.csv',names=cols,usecols=useful_cols,dtype=cols_types,parse_dates=['start'],infer_datetime_format=True)\n",
    "\n",
    "print(mem_usage(read_and_optimized))\n",
    "read_and_optimized.head()"
   ]
  },
  {
   "cell_type": "code",
   "execution_count": null,
   "metadata": {},
   "outputs": [],
   "source": []
  }
 ],
 "metadata": {
  "kernelspec": {
   "display_name": "Python 3",
   "language": "python",
   "name": "python3"
  },
  "language_info": {
   "codemirror_mode": {
    "name": "ipython",
    "version": 3
   },
   "file_extension": ".py",
   "mimetype": "text/x-python",
   "name": "python",
   "nbconvert_exporter": "python",
   "pygments_lexer": "ipython3",
   "version": "3.7.0"
  }
 },
 "nbformat": 4,
 "nbformat_minor": 2
}
