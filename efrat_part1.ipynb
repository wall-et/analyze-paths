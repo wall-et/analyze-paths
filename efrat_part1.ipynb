{
 "cells": [
  {
   "cell_type": "code",
   "execution_count": 1,
   "metadata": {},
   "outputs": [],
   "source": [
    "import pandas as pd"
   ]
  },
  {
   "cell_type": "code",
   "execution_count": null,
   "metadata": {},
   "outputs": [],
   "source": []
  },
  {
   "cell_type": "code",
   "execution_count": 2,
   "metadata": {},
   "outputs": [
    {
     "name": "stdout",
     "output_type": "stream",
     "text": [
      "Wall time: 19.7 s\n"
     ]
    }
   ],
   "source": [
    "%time points = pd.read_csv(\"data/fixed.csv\")"
   ]
  },
  {
   "cell_type": "code",
   "execution_count": 4,
   "metadata": {},
   "outputs": [
    {
     "name": "stdout",
     "output_type": "stream",
     "text": [
      "<class 'pandas.core.frame.DataFrame'>\n",
      "RangeIndex: 2997977 entries, 0 to 2997976\n",
      "Data columns (total 14 columns):\n",
      "0                                     int64\n",
      " 14                                   int64\n",
      " 329                                  int64\n",
      " 0                                    int64\n",
      " 362                                  int64\n",
      " 0.1                                  int64\n",
      " 0.2                                  int64\n",
      " 0.3                                  int64\n",
      " 5                                    int64\n",
      " 14-16\\20170817012709_100.h264.txt    object\n",
      " 2017-08-17 01:27:09                  object\n",
      " 01:27:09                             object\n",
      " 0:00:00                              object\n",
      " 0.0604166666667                      float64\n",
      "dtypes: float64(1), int64(9), object(4)\n",
      "memory usage: 763.3 MB\n"
     ]
    }
   ],
   "source": [
    "points.info(memory_usage='deep')"
   ]
  },
  {
   "cell_type": "code",
   "execution_count": 5,
   "metadata": {},
   "outputs": [
    {
     "data": {
      "text/plain": [
       "2997977"
      ]
     },
     "execution_count": 5,
     "metadata": {},
     "output_type": "execute_result"
    }
   ],
   "source": [
    "len(points)"
   ]
  },
  {
   "cell_type": "code",
   "execution_count": 6,
   "metadata": {},
   "outputs": [
    {
     "data": {
      "text/html": [
       "<div>\n",
       "<style scoped>\n",
       "    .dataframe tbody tr th:only-of-type {\n",
       "        vertical-align: middle;\n",
       "    }\n",
       "\n",
       "    .dataframe tbody tr th {\n",
       "        vertical-align: top;\n",
       "    }\n",
       "\n",
       "    .dataframe thead th {\n",
       "        text-align: right;\n",
       "    }\n",
       "</style>\n",
       "<table border=\"1\" class=\"dataframe\">\n",
       "  <thead>\n",
       "    <tr style=\"text-align: right;\">\n",
       "      <th></th>\n",
       "      <th>0</th>\n",
       "      <th>14</th>\n",
       "      <th>329</th>\n",
       "      <th>0</th>\n",
       "      <th>362</th>\n",
       "      <th>0.1</th>\n",
       "      <th>0.2</th>\n",
       "      <th>0.3</th>\n",
       "      <th>5</th>\n",
       "      <th>0.0604166666667</th>\n",
       "    </tr>\n",
       "  </thead>\n",
       "  <tbody>\n",
       "    <tr>\n",
       "      <th>count</th>\n",
       "      <td>2.997977e+06</td>\n",
       "      <td>2.997977e+06</td>\n",
       "      <td>2.997977e+06</td>\n",
       "      <td>2.997977e+06</td>\n",
       "      <td>2.997977e+06</td>\n",
       "      <td>2.997977e+06</td>\n",
       "      <td>2997977.0</td>\n",
       "      <td>2997977.0</td>\n",
       "      <td>2.997977e+06</td>\n",
       "      <td>2.997977e+06</td>\n",
       "    </tr>\n",
       "    <tr>\n",
       "      <th>mean</th>\n",
       "      <td>8.289600e+03</td>\n",
       "      <td>2.730163e+02</td>\n",
       "      <td>1.480890e+02</td>\n",
       "      <td>5.053651e+01</td>\n",
       "      <td>4.675813e+07</td>\n",
       "      <td>1.158957e+02</td>\n",
       "      <td>0.0</td>\n",
       "      <td>0.0</td>\n",
       "      <td>7.658549e+00</td>\n",
       "      <td>5.179974e-01</td>\n",
       "    </tr>\n",
       "    <tr>\n",
       "      <th>std</th>\n",
       "      <td>5.189149e+03</td>\n",
       "      <td>1.609973e+02</td>\n",
       "      <td>7.650769e+01</td>\n",
       "      <td>8.449938e+01</td>\n",
       "      <td>3.391170e+07</td>\n",
       "      <td>1.502103e+02</td>\n",
       "      <td>0.0</td>\n",
       "      <td>0.0</td>\n",
       "      <td>1.366050e+01</td>\n",
       "      <td>2.580195e-01</td>\n",
       "    </tr>\n",
       "    <tr>\n",
       "      <th>min</th>\n",
       "      <td>0.000000e+00</td>\n",
       "      <td>3.000000e+00</td>\n",
       "      <td>3.000000e+00</td>\n",
       "      <td>0.000000e+00</td>\n",
       "      <td>3.620000e+02</td>\n",
       "      <td>0.000000e+00</td>\n",
       "      <td>0.0</td>\n",
       "      <td>0.0</td>\n",
       "      <td>1.000000e+00</td>\n",
       "      <td>0.000000e+00</td>\n",
       "    </tr>\n",
       "    <tr>\n",
       "      <th>25%</th>\n",
       "      <td>3.712000e+03</td>\n",
       "      <td>1.440000e+02</td>\n",
       "      <td>9.500000e+01</td>\n",
       "      <td>1.200000e+01</td>\n",
       "      <td>1.419073e+07</td>\n",
       "      <td>1.600000e+01</td>\n",
       "      <td>0.0</td>\n",
       "      <td>0.0</td>\n",
       "      <td>2.000000e+00</td>\n",
       "      <td>3.541667e-01</td>\n",
       "    </tr>\n",
       "    <tr>\n",
       "      <th>50%</th>\n",
       "      <td>8.119000e+03</td>\n",
       "      <td>2.690000e+02</td>\n",
       "      <td>1.340000e+02</td>\n",
       "      <td>2.800000e+01</td>\n",
       "      <td>4.510348e+07</td>\n",
       "      <td>5.900000e+01</td>\n",
       "      <td>0.0</td>\n",
       "      <td>0.0</td>\n",
       "      <td>3.000000e+00</td>\n",
       "      <td>5.277778e-01</td>\n",
       "    </tr>\n",
       "    <tr>\n",
       "      <th>75%</th>\n",
       "      <td>1.263600e+04</td>\n",
       "      <td>4.020000e+02</td>\n",
       "      <td>2.050000e+02</td>\n",
       "      <td>5.100000e+01</td>\n",
       "      <td>5.399656e+07</td>\n",
       "      <td>1.620000e+02</td>\n",
       "      <td>0.0</td>\n",
       "      <td>0.0</td>\n",
       "      <td>6.000000e+00</td>\n",
       "      <td>7.138889e-01</td>\n",
       "    </tr>\n",
       "    <tr>\n",
       "      <th>max</th>\n",
       "      <td>1.847600e+04</td>\n",
       "      <td>6.370000e+02</td>\n",
       "      <td>3.570000e+02</td>\n",
       "      <td>6.430000e+02</td>\n",
       "      <td>1.265195e+08</td>\n",
       "      <td>1.977000e+03</td>\n",
       "      <td>0.0</td>\n",
       "      <td>0.0</td>\n",
       "      <td>1.150000e+02</td>\n",
       "      <td>9.993056e-01</td>\n",
       "    </tr>\n",
       "  </tbody>\n",
       "</table>\n",
       "</div>"
      ],
      "text/plain": [
       "                  0            14           329             0           362  \\\n",
       "count  2.997977e+06  2.997977e+06  2.997977e+06  2.997977e+06  2.997977e+06   \n",
       "mean   8.289600e+03  2.730163e+02  1.480890e+02  5.053651e+01  4.675813e+07   \n",
       "std    5.189149e+03  1.609973e+02  7.650769e+01  8.449938e+01  3.391170e+07   \n",
       "min    0.000000e+00  3.000000e+00  3.000000e+00  0.000000e+00  3.620000e+02   \n",
       "25%    3.712000e+03  1.440000e+02  9.500000e+01  1.200000e+01  1.419073e+07   \n",
       "50%    8.119000e+03  2.690000e+02  1.340000e+02  2.800000e+01  4.510348e+07   \n",
       "75%    1.263600e+04  4.020000e+02  2.050000e+02  5.100000e+01  5.399656e+07   \n",
       "max    1.847600e+04  6.370000e+02  3.570000e+02  6.430000e+02  1.265195e+08   \n",
       "\n",
       "                0.1        0.2        0.3             5   0.0604166666667  \n",
       "count  2.997977e+06  2997977.0  2997977.0  2.997977e+06      2.997977e+06  \n",
       "mean   1.158957e+02        0.0        0.0  7.658549e+00      5.179974e-01  \n",
       "std    1.502103e+02        0.0        0.0  1.366050e+01      2.580195e-01  \n",
       "min    0.000000e+00        0.0        0.0  1.000000e+00      0.000000e+00  \n",
       "25%    1.600000e+01        0.0        0.0  2.000000e+00      3.541667e-01  \n",
       "50%    5.900000e+01        0.0        0.0  3.000000e+00      5.277778e-01  \n",
       "75%    1.620000e+02        0.0        0.0  6.000000e+00      7.138889e-01  \n",
       "max    1.977000e+03        0.0        0.0  1.150000e+02      9.993056e-01  "
      ]
     },
     "execution_count": 6,
     "metadata": {},
     "output_type": "execute_result"
    }
   ],
   "source": [
    "points.describe()"
   ]
  },
  {
   "cell_type": "code",
   "execution_count": null,
   "metadata": {},
   "outputs": [],
   "source": []
  },
  {
   "cell_type": "code",
   "execution_count": null,
   "metadata": {},
   "outputs": [],
   "source": [
    "points"
   ]
  },
  {
   "cell_type": "code",
   "execution_count": null,
   "metadata": {},
   "outputs": [],
   "source": []
  }
 ],
 "metadata": {
  "kernelspec": {
   "display_name": "Python 3",
   "language": "python",
   "name": "python3"
  },
  "language_info": {
   "codemirror_mode": {
    "name": "ipython",
    "version": 3
   },
   "file_extension": ".py",
   "mimetype": "text/x-python",
   "name": "python",
   "nbconvert_exporter": "python",
   "pygments_lexer": "ipython3",
   "version": "3.7.0"
  }
 },
 "nbformat": 4,
 "nbformat_minor": 2
}
