{
 "cells": [
  {
   "cell_type": "code",
   "execution_count": 1,
   "metadata": {},
   "outputs": [],
   "source": [
    "import pandas as pd"
   ]
  },
  {
   "cell_type": "code",
   "execution_count": 2,
   "metadata": {},
   "outputs": [],
   "source": [
    "cols = [\"frame\", \"x\", \"y\", \"obj\",\"size\",\"seq\",\"tbd1\",\"tbd2\",\"tbd3\",\"filename\",\"start\",\"path_time\",\"delta_time\",\"tbd4\"]\n",
    "useful_cols = [\"frame\", \"x\", \"y\", \"obj\",\"size\",\"seq\",\"filename\",\"start\",\"path_time\",\"delta_time\"]"
   ]
  },
  {
   "cell_type": "code",
   "execution_count": null,
   "metadata": {},
   "outputs": [],
   "source": [
    "%time points = pd.read_csv(\"data/fixed.csv\",names=cols,usecols=useful_cols,parse_dates=['start'])"
   ]
  },
  {
   "cell_type": "code",
   "execution_count": null,
   "metadata": {},
   "outputs": [],
   "source": [
    "points.info(memory_usage='deep')"
   ]
  },
  {
   "cell_type": "code",
   "execution_count": null,
   "metadata": {},
   "outputs": [],
   "source": [
    "# points.info()\n",
    "# len(points)\n",
    "# points.describe()\n",
    "points.head(50)"
   ]
  },
  {
   "cell_type": "code",
   "execution_count": 3,
   "metadata": {},
   "outputs": [
    {
     "ename": "NameError",
     "evalue": "name 'points' is not defined",
     "output_type": "error",
     "traceback": [
      "\u001b[1;31m---------------------------------------------------------------------------\u001b[0m",
      "\u001b[1;31mNameError\u001b[0m                                 Traceback (most recent call last)",
      "\u001b[1;32m<ipython-input-3-2a8aa9e9a9bf>\u001b[0m in \u001b[0;36m<module>\u001b[1;34m\u001b[0m\n\u001b[1;32m----> 1\u001b[1;33m \u001b[0mp\u001b[0m \u001b[1;33m=\u001b[0m \u001b[0mpoints\u001b[0m\u001b[1;33m\u001b[0m\u001b[0m\n\u001b[0m\u001b[0;32m      2\u001b[0m \u001b[1;31m# p.groupby(p.start).size()\u001b[0m\u001b[1;33m\u001b[0m\u001b[1;33m\u001b[0m\u001b[0m\n",
      "\u001b[1;31mNameError\u001b[0m: name 'points' is not defined"
     ]
    }
   ],
   "source": [
    "p = points\n",
    "# p.groupby(p.start).size()"
   ]
  },
  {
   "cell_type": "code",
   "execution_count": null,
   "metadata": {},
   "outputs": [],
   "source": [
    "for dtype in ['int64','object']:\n",
    "    selected_dtype = p.select_dtypes(include=[dtype])\n",
    "    mean_usage_b = selected_dtype.memory_usage(deep=True).mean()\n",
    "    mean_usage_mb = mean_usage_b / 1024 ** 2\n",
    "    print(\"Average memory usage for {} columns: {:03.2f} MB\".format(dtype,mean_usage_mb))"
   ]
  },
  {
   "cell_type": "code",
   "execution_count": 4,
   "metadata": {},
   "outputs": [],
   "source": [
    "def mem_usage(pandas_obj):\n",
    "    if isinstance(pandas_obj,pd.DataFrame):\n",
    "        usage_b = pandas_obj.memory_usage(deep=True).sum()\n",
    "    else: # we assume if not a df it's a series\n",
    "        usage_b = pandas_obj.memory_usage(deep=True)\n",
    "    usage_mb = usage_b / 1024 ** 2 # convert bytes to megabytes\n",
    "    return \"{:03.2f} MB\".format(usage_mb)"
   ]
  },
  {
   "cell_type": "code",
   "execution_count": null,
   "metadata": {},
   "outputs": [],
   "source": [
    "p_int = points.select_dtypes(include=['int64'])\n",
    "converted_int = p_int.apply(pd.to_numeric,downcast='unsigned')\n",
    "print(mem_usage(p_int))\n",
    "print(mem_usage(converted_int))"
   ]
  },
  {
   "cell_type": "code",
   "execution_count": null,
   "metadata": {},
   "outputs": [],
   "source": [
    "compare_ints = pd.concat([p_int.dtypes,converted_int.dtypes],axis=1)\n",
    "compare_ints.columns = ['before','after']\n",
    "compare_ints.apply(pd.Series.value_counts)"
   ]
  },
  {
   "cell_type": "code",
   "execution_count": null,
   "metadata": {},
   "outputs": [],
   "source": [
    "optimized_p = p.copy()\n",
    "\n",
    "optimized_p[converted_int.columns] = converted_int\n",
    "\n",
    "print(mem_usage(p))\n",
    "print(mem_usage(optimized_p))"
   ]
  },
  {
   "cell_type": "code",
   "execution_count": null,
   "metadata": {},
   "outputs": [],
   "source": [
    "dtypes = optimized_p.dtypes\n",
    "\n",
    "dtypes_col = dtypes.index\n",
    "dtypes_type = [i.name for i in dtypes.values]\n",
    "\n",
    "column_types = dict(zip(dtypes_col, dtypes_type))\n",
    "\n",
    "# rather than print all 161 items, we'll\n",
    "# sample 10 key/value pairs from the dict\n",
    "# and print it nicely using prettyprint\n",
    "\n",
    "preview = first2pairs = {key:value for key,value in list(column_types.items())[:10]}\n",
    "import pprint\n",
    "pp = pp = pprint.PrettyPrinter(indent=4)\n",
    "pp.pprint(preview)"
   ]
  },
  {
   "cell_type": "code",
   "execution_count": null,
   "metadata": {},
   "outputs": [],
   "source": [
    "p_obj = p.select_dtypes(include=['object']).copy()\n",
    "p_obj.describe()"
   ]
  },
  {
   "cell_type": "code",
   "execution_count": null,
   "metadata": {},
   "outputs": [],
   "source": [
    "fn = p_obj.filename\n",
    "fn_cat = fn.astype('category')\n",
    "print(fn_cat.head())\n"
   ]
  },
  {
   "cell_type": "code",
   "execution_count": null,
   "metadata": {},
   "outputs": [],
   "source": [
    "fn_cat.head().cat.codes"
   ]
  },
  {
   "cell_type": "code",
   "execution_count": null,
   "metadata": {},
   "outputs": [],
   "source": [
    "print(mem_usage(fn))\n",
    "print(mem_usage(fn_cat))\n"
   ]
  },
  {
   "cell_type": "code",
   "execution_count": null,
   "metadata": {},
   "outputs": [],
   "source": []
  },
  {
   "cell_type": "code",
   "execution_count": null,
   "metadata": {},
   "outputs": [],
   "source": []
  },
  {
   "cell_type": "code",
   "execution_count": null,
   "metadata": {},
   "outputs": [],
   "source": [
    "converted_obj = pd.DataFrame()\n",
    "\n",
    "for col in p_obj.columns:\n",
    "    num_unique_values = len(p_obj[col].unique())\n",
    "    num_total_values = len(p_obj[col])\n",
    "    if num_unique_values / num_total_values < 0.5:\n",
    "        converted_obj.loc[:,col] = p_obj[col].astype('category')\n",
    "    else:\n",
    "        converted_obj.loc[:,col] = p_obj[col]"
   ]
  },
  {
   "cell_type": "code",
   "execution_count": null,
   "metadata": {},
   "outputs": [],
   "source": [
    "optimized_p[converted_obj.columns] = converted_obj\n",
    "\n",
    "mem_usage(optimized_p)"
   ]
  },
  {
   "cell_type": "code",
   "execution_count": null,
   "metadata": {},
   "outputs": [],
   "source": [
    "print(mem_usage(p_obj))\n",
    "print(mem_usage(converted_obj))\n",
    "\n",
    "compare_obj = pd.concat([p_obj.dtypes,converted_obj.dtypes],axis=1)\n",
    "compare_obj.columns = ['before','after']\n",
    "compare_obj.apply(pd.Series.value_counts)"
   ]
  },
  {
   "cell_type": "code",
   "execution_count": null,
   "metadata": {},
   "outputs": [],
   "source": [
    "converted_obj.info(memory_usage='deep')"
   ]
  },
  {
   "cell_type": "code",
   "execution_count": null,
   "metadata": {},
   "outputs": [],
   "source": [
    "dtypes = optimized_p.dtypes\n",
    "\n",
    "dtypes_col = dtypes.index\n",
    "dtypes_type = [i.name for i in dtypes.values]\n",
    "\n",
    "column_types = dict(zip(dtypes_col, dtypes_type))\n",
    "\n",
    "# rather than print all 161 items, we'll\n",
    "# sample 10 key/value pairs from the dict\n",
    "# and print it nicely using prettyprint\n",
    "\n",
    "preview = first2pairs = {key:value for key,value in list(column_types.items())[:10]}\n",
    "import pprint\n",
    "pp = pp = pprint.PrettyPrinter(indent=4)\n",
    "pp.pprint(preview)"
   ]
  },
  {
   "cell_type": "code",
   "execution_count": 5,
   "metadata": {},
   "outputs": [],
   "source": [
    "cols_types = dict({   \n",
    "    'delta_time': 'object',\n",
    "    'filename': 'category',\n",
    "    'frame': 'uint16',\n",
    "    'obj': 'uint16',\n",
    "    'path_time': 'object',\n",
    "    'seq': 'uint16',\n",
    "    'size': 'uint32',\n",
    "    'x': 'uint16',\n",
    "    'y': 'uint16'})"
   ]
  },
  {
   "cell_type": "code",
   "execution_count": 6,
   "metadata": {},
   "outputs": [
    {
     "name": "stdout",
     "output_type": "stream",
     "text": [
      "283.10 MB\n",
      "Wall time: 25 s\n"
     ]
    }
   ],
   "source": [
    "%%time \n",
    "read_and_optimized = pd.read_csv('data/fixed.csv',names=cols,usecols=useful_cols,dtype=cols_types,parse_dates=['start'],infer_datetime_format=True)\n",
    "\n",
    "print(mem_usage(read_and_optimized))\n",
    "read_and_optimized.head()"
   ]
  },
  {
   "cell_type": "code",
   "execution_count": 8,
   "metadata": {},
   "outputs": [
    {
     "data": {
      "text/html": [
       "<div>\n",
       "<style scoped>\n",
       "    .dataframe tbody tr th:only-of-type {\n",
       "        vertical-align: middle;\n",
       "    }\n",
       "\n",
       "    .dataframe tbody tr th {\n",
       "        vertical-align: top;\n",
       "    }\n",
       "\n",
       "    .dataframe thead th {\n",
       "        text-align: right;\n",
       "    }\n",
       "</style>\n",
       "<table border=\"1\" class=\"dataframe\">\n",
       "  <thead>\n",
       "    <tr style=\"text-align: right;\">\n",
       "      <th></th>\n",
       "      <th>frame</th>\n",
       "      <th>x</th>\n",
       "      <th>y</th>\n",
       "      <th>obj</th>\n",
       "      <th>size</th>\n",
       "      <th>seq</th>\n",
       "      <th>filename</th>\n",
       "      <th>start</th>\n",
       "      <th>path_time</th>\n",
       "      <th>delta_time</th>\n",
       "    </tr>\n",
       "  </thead>\n",
       "  <tbody>\n",
       "    <tr>\n",
       "      <th>0</th>\n",
       "      <td>0</td>\n",
       "      <td>14</td>\n",
       "      <td>329</td>\n",
       "      <td>0</td>\n",
       "      <td>362</td>\n",
       "      <td>0</td>\n",
       "      <td>14-16\\20170817012709_100.h264.txt</td>\n",
       "      <td>2017-08-17 01:27:09</td>\n",
       "      <td>01:27:09</td>\n",
       "      <td>0:00:00</td>\n",
       "    </tr>\n",
       "    <tr>\n",
       "      <th>1</th>\n",
       "      <td>0</td>\n",
       "      <td>4</td>\n",
       "      <td>291</td>\n",
       "      <td>1</td>\n",
       "      <td>362</td>\n",
       "      <td>0</td>\n",
       "      <td>14-16\\20170817012709_100.h264.txt</td>\n",
       "      <td>2017-08-17 01:27:09</td>\n",
       "      <td>01:27:09</td>\n",
       "      <td>0:00:00</td>\n",
       "    </tr>\n",
       "    <tr>\n",
       "      <th>2</th>\n",
       "      <td>0</td>\n",
       "      <td>629</td>\n",
       "      <td>7</td>\n",
       "      <td>2</td>\n",
       "      <td>362</td>\n",
       "      <td>0</td>\n",
       "      <td>14-16\\20170817012709_100.h264.txt</td>\n",
       "      <td>2017-08-17 01:27:09</td>\n",
       "      <td>01:27:09</td>\n",
       "      <td>0:00:00</td>\n",
       "    </tr>\n",
       "    <tr>\n",
       "      <th>3</th>\n",
       "      <td>0</td>\n",
       "      <td>253</td>\n",
       "      <td>4</td>\n",
       "      <td>3</td>\n",
       "      <td>362</td>\n",
       "      <td>0</td>\n",
       "      <td>14-16\\20170817012709_100.h264.txt</td>\n",
       "      <td>2017-08-17 01:27:09</td>\n",
       "      <td>01:27:09</td>\n",
       "      <td>0:00:00</td>\n",
       "    </tr>\n",
       "    <tr>\n",
       "      <th>4</th>\n",
       "      <td>0</td>\n",
       "      <td>185</td>\n",
       "      <td>4</td>\n",
       "      <td>4</td>\n",
       "      <td>362</td>\n",
       "      <td>0</td>\n",
       "      <td>14-16\\20170817012709_100.h264.txt</td>\n",
       "      <td>2017-08-17 01:27:09</td>\n",
       "      <td>01:27:09</td>\n",
       "      <td>0:00:00</td>\n",
       "    </tr>\n",
       "  </tbody>\n",
       "</table>\n",
       "</div>"
      ],
      "text/plain": [
       "   frame    x    y  obj  size  seq                            filename  \\\n",
       "0      0   14  329    0   362    0   14-16\\20170817012709_100.h264.txt   \n",
       "1      0    4  291    1   362    0   14-16\\20170817012709_100.h264.txt   \n",
       "2      0  629    7    2   362    0   14-16\\20170817012709_100.h264.txt   \n",
       "3      0  253    4    3   362    0   14-16\\20170817012709_100.h264.txt   \n",
       "4      0  185    4    4   362    0   14-16\\20170817012709_100.h264.txt   \n",
       "\n",
       "                start  path_time delta_time  \n",
       "0 2017-08-17 01:27:09   01:27:09    0:00:00  \n",
       "1 2017-08-17 01:27:09   01:27:09    0:00:00  \n",
       "2 2017-08-17 01:27:09   01:27:09    0:00:00  \n",
       "3 2017-08-17 01:27:09   01:27:09    0:00:00  \n",
       "4 2017-08-17 01:27:09   01:27:09    0:00:00  "
      ]
     },
     "execution_count": 8,
     "metadata": {},
     "output_type": "execute_result"
    }
   ],
   "source": [
    "p = read_and_optimized\n",
    "len(p)\n",
    "p.head(5)"
   ]
  },
  {
   "cell_type": "code",
   "execution_count": 30,
   "metadata": {},
   "outputs": [],
   "source": [
    "u_p = p.groupby(['filename','obj','x','y']).size()"
   ]
  },
  {
   "cell_type": "code",
   "execution_count": 32,
   "metadata": {},
   "outputs": [
    {
     "data": {
      "text/plain": [
       "1324447"
      ]
     },
     "execution_count": 32,
     "metadata": {},
     "output_type": "execute_result"
    }
   ],
   "source": [
    "len(u_p)"
   ]
  },
  {
   "cell_type": "code",
   "execution_count": null,
   "metadata": {},
   "outputs": [],
   "source": []
  },
  {
   "cell_type": "code",
   "execution_count": 21,
   "metadata": {},
   "outputs": [
    {
     "data": {
      "text/plain": [
       "'20.27 MB'"
      ]
     },
     "execution_count": 21,
     "metadata": {},
     "output_type": "execute_result"
    }
   ],
   "source": [
    "mem_usage(u_p)"
   ]
  },
  {
   "cell_type": "code",
   "execution_count": 26,
   "metadata": {},
   "outputs": [
    {
     "data": {
      "text/plain": [
       "filename                            obj  x    y    seq\n",
       " 14-16\\20170817012709_100.h264.txt  0    14   329  0        1\n",
       "                                    1    4    291  0        1\n",
       "                                    2    629  7    0        1\n",
       "                                    3    253  4    0        1\n",
       "                                    4    185  4    0        1\n",
       "                                    5    5    102  0        1\n",
       "                                         6    102  1        1\n",
       "                                                   2        1\n",
       "                                         7    102  3        1\n",
       "                                         9    102  4        1\n",
       "                                         11   102  5       61\n",
       "                                    6    76   100  0        1\n",
       "                                         80   100  1        1\n",
       "                                         94   100  2        5\n",
       "                                         109  101  3        1\n",
       "                                         111  101  4        4\n",
       "                                         119  101  5        3\n",
       "                                         130  106  6        8\n",
       "                                         145  108  7        7\n",
       "                                         158  111  8        1\n",
       "                                         159  112  9        8\n",
       "                                         164  105  10     101\n",
       "                                    7    12   230  145      1\n",
       "                                         14   228  143      1\n",
       "                                              230  146      1\n",
       "                                         17   225  141      1\n",
       "                                         21   224  139      1\n",
       "                                         22   221  137      1\n",
       "                                         24   220  135      1\n",
       "                                         29   229  133      1\n",
       "                                                         ... \n",
       " 14-16\\20170824152302_100.h264.txt  32   148  247  15       1\n",
       "                                                   17       1\n",
       "                                              248  37       1\n",
       "                                              249  39       1\n",
       "                                         149  247  12       1\n",
       "                                                   14       1\n",
       "                                              248  34       1\n",
       "                                                   35       1\n",
       "                                                   36       1\n",
       "                                         150  247  13       1\n",
       "                                         151  246  8        1\n",
       "                                                   10       1\n",
       "                                                   11       1\n",
       "                                              247  9        1\n",
       "                                              248  32       1\n",
       "                                                   33       1\n",
       "                                         152  245  4        1\n",
       "                                              246  7        1\n",
       "                                                   29       1\n",
       "                                         153  245  2        1\n",
       "                                              246  5        1\n",
       "                                                   6        1\n",
       "                                         154  246  3        1\n",
       "                                         155  247  0        1\n",
       "                                                   1        1\n",
       " 152_100.h264.txt                   34   268  104  234      1\n",
       " 4135152_100.h264.txt               34   289  94   232      1\n",
       "                                    35   327  92   358      1\n",
       "                                    36   431  54   175      1\n",
       "                                    37   93   92   72       1\n",
       "Length: 1779632, dtype: int64"
      ]
     },
     "execution_count": 26,
     "metadata": {},
     "output_type": "execute_result"
    }
   ],
   "source": [
    "u_p"
   ]
  },
  {
   "cell_type": "code",
   "execution_count": 23,
   "metadata": {},
   "outputs": [
    {
     "data": {
      "text/html": [
       "<div>\n",
       "<style scoped>\n",
       "    .dataframe tbody tr th:only-of-type {\n",
       "        vertical-align: middle;\n",
       "    }\n",
       "\n",
       "    .dataframe tbody tr th {\n",
       "        vertical-align: top;\n",
       "    }\n",
       "\n",
       "    .dataframe thead th {\n",
       "        text-align: right;\n",
       "    }\n",
       "</style>\n",
       "<table border=\"1\" class=\"dataframe\">\n",
       "  <thead>\n",
       "    <tr style=\"text-align: right;\">\n",
       "      <th></th>\n",
       "      <th>frame</th>\n",
       "      <th>x</th>\n",
       "      <th>y</th>\n",
       "      <th>obj</th>\n",
       "      <th>size</th>\n",
       "      <th>seq</th>\n",
       "      <th>filename</th>\n",
       "      <th>start</th>\n",
       "      <th>path_time</th>\n",
       "      <th>delta_time</th>\n",
       "    </tr>\n",
       "  </thead>\n",
       "  <tbody>\n",
       "  </tbody>\n",
       "</table>\n",
       "</div>"
      ],
      "text/plain": [
       "Empty DataFrame\n",
       "Columns: [frame, x, y, obj, size, seq, filename, start, path_time, delta_time]\n",
       "Index: []"
      ]
     },
     "execution_count": 23,
     "metadata": {},
     "output_type": "execute_result"
    }
   ],
   "source": [
    "p[(p.obj == 0) & (p.filename == \"14-16\\20170817012709_100.h264.txt\")]"
   ]
  },
  {
   "cell_type": "code",
   "execution_count": null,
   "metadata": {},
   "outputs": [],
   "source": []
  }
 ],
 "metadata": {
  "kernelspec": {
   "display_name": "Python 3",
   "language": "python",
   "name": "python3"
  },
  "language_info": {
   "codemirror_mode": {
    "name": "ipython",
    "version": 3
   },
   "file_extension": ".py",
   "mimetype": "text/x-python",
   "name": "python",
   "nbconvert_exporter": "python",
   "pygments_lexer": "ipython3",
   "version": "3.7.0"
  }
 },
 "nbformat": 4,
 "nbformat_minor": 2
}
