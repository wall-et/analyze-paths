{
 "cells": [
  {
   "cell_type": "code",
   "execution_count": 28,
   "metadata": {},
   "outputs": [],
   "source": [
    "import pandas as pd\n",
    "import numpy as np"
   ]
  },
  {
   "cell_type": "code",
   "execution_count": 29,
   "metadata": {},
   "outputs": [],
   "source": [
    "cols = [\"frame\", \"x\", \"y\", \"obj\",\"size\",\"seq\",\"tbd1\",\"tbd2\",\"tbd3\",\"filename\",\"start\",\"path_time\",\"delta_time\",\"tbd4\"]\n",
    "useful_cols = [\"frame\", \"x\", \"y\", \"obj\",\"size\",\"seq\",\"filename\",\"start\",\"path_time\",\"delta_time\"]"
   ]
  },
  {
   "cell_type": "code",
   "execution_count": 30,
   "metadata": {},
   "outputs": [],
   "source": [
    "cols_types = dict({   \n",
    "    'delta_time': 'object',\n",
    "    'filename': 'category',\n",
    "    'frame': 'uint16',\n",
    "    'obj': 'uint16',\n",
    "    'path_time': 'object',\n",
    "    'seq': 'uint16',\n",
    "    'size': 'uint32',\n",
    "    'x': 'uint16',\n",
    "    'y': 'uint16'})"
   ]
  },
  {
   "cell_type": "code",
   "execution_count": 31,
   "metadata": {},
   "outputs": [
    {
     "name": "stdout",
     "output_type": "stream",
     "text": [
      "Wall time: 25 s\n"
     ]
    }
   ],
   "source": [
    "%%time\n",
    "points = pd.read_csv('data/fixed.csv',names=cols,usecols=useful_cols,dtype=cols_types,parse_dates=['start'],infer_datetime_format=True)\n"
   ]
  },
  {
   "cell_type": "code",
   "execution_count": 6,
   "metadata": {},
   "outputs": [
    {
     "data": {
      "text/plain": [
       "2997978"
      ]
     },
     "execution_count": 6,
     "metadata": {},
     "output_type": "execute_result"
    }
   ],
   "source": [
    "len(points)"
   ]
  },
  {
   "cell_type": "code",
   "execution_count": 13,
   "metadata": {},
   "outputs": [
    {
     "data": {
      "text/html": [
       "<div>\n",
       "<style scoped>\n",
       "    .dataframe tbody tr th:only-of-type {\n",
       "        vertical-align: middle;\n",
       "    }\n",
       "\n",
       "    .dataframe tbody tr th {\n",
       "        vertical-align: top;\n",
       "    }\n",
       "\n",
       "    .dataframe thead th {\n",
       "        text-align: right;\n",
       "    }\n",
       "</style>\n",
       "<table border=\"1\" class=\"dataframe\">\n",
       "  <thead>\n",
       "    <tr style=\"text-align: right;\">\n",
       "      <th></th>\n",
       "      <th>frame</th>\n",
       "      <th>x</th>\n",
       "      <th>y</th>\n",
       "      <th>obj</th>\n",
       "      <th>size</th>\n",
       "      <th>seq</th>\n",
       "      <th>filename</th>\n",
       "      <th>start</th>\n",
       "      <th>path_time</th>\n",
       "      <th>delta_time</th>\n",
       "    </tr>\n",
       "  </thead>\n",
       "  <tbody>\n",
       "    <tr>\n",
       "      <th>0</th>\n",
       "      <td>0</td>\n",
       "      <td>14</td>\n",
       "      <td>329</td>\n",
       "      <td>0</td>\n",
       "      <td>362</td>\n",
       "      <td>0</td>\n",
       "      <td>14-16\\20170817012709_100.h264.txt</td>\n",
       "      <td>2017-08-17 01:27:09</td>\n",
       "      <td>01:27:09</td>\n",
       "      <td>0:00:00</td>\n",
       "    </tr>\n",
       "    <tr>\n",
       "      <th>1</th>\n",
       "      <td>0</td>\n",
       "      <td>4</td>\n",
       "      <td>291</td>\n",
       "      <td>1</td>\n",
       "      <td>362</td>\n",
       "      <td>0</td>\n",
       "      <td>14-16\\20170817012709_100.h264.txt</td>\n",
       "      <td>2017-08-17 01:27:09</td>\n",
       "      <td>01:27:09</td>\n",
       "      <td>0:00:00</td>\n",
       "    </tr>\n",
       "    <tr>\n",
       "      <th>2</th>\n",
       "      <td>0</td>\n",
       "      <td>629</td>\n",
       "      <td>7</td>\n",
       "      <td>2</td>\n",
       "      <td>362</td>\n",
       "      <td>0</td>\n",
       "      <td>14-16\\20170817012709_100.h264.txt</td>\n",
       "      <td>2017-08-17 01:27:09</td>\n",
       "      <td>01:27:09</td>\n",
       "      <td>0:00:00</td>\n",
       "    </tr>\n",
       "    <tr>\n",
       "      <th>3</th>\n",
       "      <td>0</td>\n",
       "      <td>253</td>\n",
       "      <td>4</td>\n",
       "      <td>3</td>\n",
       "      <td>362</td>\n",
       "      <td>0</td>\n",
       "      <td>14-16\\20170817012709_100.h264.txt</td>\n",
       "      <td>2017-08-17 01:27:09</td>\n",
       "      <td>01:27:09</td>\n",
       "      <td>0:00:00</td>\n",
       "    </tr>\n",
       "    <tr>\n",
       "      <th>4</th>\n",
       "      <td>0</td>\n",
       "      <td>185</td>\n",
       "      <td>4</td>\n",
       "      <td>4</td>\n",
       "      <td>362</td>\n",
       "      <td>0</td>\n",
       "      <td>14-16\\20170817012709_100.h264.txt</td>\n",
       "      <td>2017-08-17 01:27:09</td>\n",
       "      <td>01:27:09</td>\n",
       "      <td>0:00:00</td>\n",
       "    </tr>\n",
       "  </tbody>\n",
       "</table>\n",
       "</div>"
      ],
      "text/plain": [
       "   frame    x    y  obj  size  seq                            filename  \\\n",
       "0      0   14  329    0   362    0   14-16\\20170817012709_100.h264.txt   \n",
       "1      0    4  291    1   362    0   14-16\\20170817012709_100.h264.txt   \n",
       "2      0  629    7    2   362    0   14-16\\20170817012709_100.h264.txt   \n",
       "3      0  253    4    3   362    0   14-16\\20170817012709_100.h264.txt   \n",
       "4      0  185    4    4   362    0   14-16\\20170817012709_100.h264.txt   \n",
       "\n",
       "                start  path_time delta_time  \n",
       "0 2017-08-17 01:27:09   01:27:09    0:00:00  \n",
       "1 2017-08-17 01:27:09   01:27:09    0:00:00  \n",
       "2 2017-08-17 01:27:09   01:27:09    0:00:00  \n",
       "3 2017-08-17 01:27:09   01:27:09    0:00:00  \n",
       "4 2017-08-17 01:27:09   01:27:09    0:00:00  "
      ]
     },
     "execution_count": 13,
     "metadata": {},
     "output_type": "execute_result"
    }
   ],
   "source": [
    "points.head(5)"
   ]
  },
  {
   "cell_type": "code",
   "execution_count": 32,
   "metadata": {},
   "outputs": [],
   "source": [
    "import numpy as np"
   ]
  },
  {
   "cell_type": "code",
   "execution_count": 15,
   "metadata": {},
   "outputs": [
    {
     "data": {
      "text/plain": [
       "array([1502933229, 1502933229, 1502933229, ..., 1503588182, 1503588182,\n",
       "       1503588182], dtype=int64)"
      ]
     },
     "execution_count": 15,
     "metadata": {},
     "output_type": "execute_result"
    }
   ],
   "source": [
    "points.start.values.astype(np.int64) // 10 ** 9"
   ]
  },
  {
   "cell_type": "code",
   "execution_count": 33,
   "metadata": {},
   "outputs": [
    {
     "data": {
      "text/plain": [
       "<bound method Series.to_timestamp of 0         2017-08-17 01:27:09\n",
       "1         2017-08-17 01:27:09\n",
       "2         2017-08-17 01:27:09\n",
       "3         2017-08-17 01:27:09\n",
       "4         2017-08-17 01:27:09\n",
       "5         2017-08-17 01:27:09\n",
       "6         2017-08-17 01:27:09\n",
       "7         2017-08-17 01:27:09\n",
       "8         2017-08-17 01:27:09\n",
       "9         2017-08-17 01:27:09\n",
       "10        2017-08-17 01:27:09\n",
       "11        2017-08-17 01:27:09\n",
       "12        2017-08-17 01:27:09\n",
       "13        2017-08-17 01:27:09\n",
       "14        2017-08-17 01:27:09\n",
       "15        2017-08-17 01:27:09\n",
       "16        2017-08-17 01:27:09\n",
       "17        2017-08-17 01:27:09\n",
       "18        2017-08-17 01:27:09\n",
       "19        2017-08-17 01:27:09\n",
       "20        2017-08-17 01:27:09\n",
       "21        2017-08-17 01:27:09\n",
       "22        2017-08-17 01:27:09\n",
       "23        2017-08-17 01:27:09\n",
       "24        2017-08-17 01:27:09\n",
       "25        2017-08-17 01:27:09\n",
       "26        2017-08-17 01:27:09\n",
       "27        2017-08-17 01:27:09\n",
       "28        2017-08-17 01:27:09\n",
       "29        2017-08-17 01:27:09\n",
       "                  ...        \n",
       "2997948   2017-08-24 15:23:02\n",
       "2997949   2017-08-24 15:23:02\n",
       "2997950   2017-08-24 15:23:02\n",
       "2997951   2017-08-24 15:23:02\n",
       "2997952   2017-08-24 15:23:02\n",
       "2997953   2017-08-24 15:23:02\n",
       "2997954   2017-08-24 15:23:02\n",
       "2997955   2017-08-24 15:23:02\n",
       "2997956   2017-08-24 15:23:02\n",
       "2997957   2017-08-24 15:23:02\n",
       "2997958   2017-08-24 15:23:02\n",
       "2997959   2017-08-24 15:23:02\n",
       "2997960   2017-08-24 15:23:02\n",
       "2997961   2017-08-24 15:23:02\n",
       "2997962   2017-08-24 15:23:02\n",
       "2997963   2017-08-24 15:23:02\n",
       "2997964   2017-08-24 15:23:02\n",
       "2997965   2017-08-24 15:23:02\n",
       "2997966   2017-08-24 15:23:02\n",
       "2997967   2017-08-24 15:23:02\n",
       "2997968   2017-08-24 15:23:02\n",
       "2997969   2017-08-24 15:23:02\n",
       "2997970   2017-08-24 15:23:02\n",
       "2997971   2017-08-24 15:23:02\n",
       "2997972   2017-08-24 15:23:02\n",
       "2997973   2017-08-24 15:23:02\n",
       "2997974   2017-08-24 15:23:02\n",
       "2997975   2017-08-24 15:23:02\n",
       "2997976   2017-08-24 15:23:02\n",
       "2997977   2017-08-24 15:23:02\n",
       "Name: start, Length: 2997978, dtype: datetime64[ns]>"
      ]
     },
     "execution_count": 33,
     "metadata": {},
     "output_type": "execute_result"
    }
   ],
   "source": [
    "points.start.to_timestamp"
   ]
  },
  {
   "cell_type": "code",
   "execution_count": 18,
   "metadata": {},
   "outputs": [
    {
     "data": {
      "text/plain": [
       "<bound method Series.to_timestamp of 0           0:00:00\n",
       "1           0:00:00\n",
       "2           0:00:00\n",
       "3           0:00:00\n",
       "4           0:00:00\n",
       "5           0:01:08\n",
       "6           0:01:08\n",
       "7           0:01:08\n",
       "8           0:01:08\n",
       "9           0:01:08\n",
       "10          0:01:08\n",
       "11          0:01:09\n",
       "12          0:01:09\n",
       "13          0:01:09\n",
       "14          0:01:09\n",
       "15          0:01:09\n",
       "16          0:01:09\n",
       "17          0:01:09\n",
       "18          0:01:09\n",
       "19          0:01:09\n",
       "20          0:01:10\n",
       "21          0:01:10\n",
       "22          0:01:10\n",
       "23          0:01:10\n",
       "24          0:01:10\n",
       "25          0:01:10\n",
       "26          0:01:10\n",
       "27          0:01:10\n",
       "28          0:01:10\n",
       "29          0:01:10\n",
       "             ...   \n",
       "2997948     0:09:19\n",
       "2997949     0:09:19\n",
       "2997950     0:09:19\n",
       "2997951     0:09:19\n",
       "2997952     0:09:19\n",
       "2997953     0:09:19\n",
       "2997954     0:09:19\n",
       "2997955     0:09:19\n",
       "2997956     0:09:19\n",
       "2997957     0:09:19\n",
       "2997958     0:09:19\n",
       "2997959     0:09:19\n",
       "2997960     0:09:19\n",
       "2997961     0:09:19\n",
       "2997962     0:09:19\n",
       "2997963     0:09:19\n",
       "2997964     0:09:19\n",
       "2997965     0:09:19\n",
       "2997966     0:09:19\n",
       "2997967     0:09:19\n",
       "2997968     0:09:19\n",
       "2997969     0:09:19\n",
       "2997970     0:09:19\n",
       "2997971     0:09:19\n",
       "2997972     0:09:19\n",
       "2997973     0:09:19\n",
       "2997974     0:09:19\n",
       "2997975     0:09:19\n",
       "2997976     0:09:19\n",
       "2997977     0:09:19\n",
       "Name: delta_time, Length: 2997978, dtype: object>"
      ]
     },
     "execution_count": 18,
     "metadata": {},
     "output_type": "execute_result"
    }
   ],
   "source": [
    "points.delta_time.to_timestamp"
   ]
  },
  {
   "cell_type": "code",
   "execution_count": 43,
   "metadata": {},
   "outputs": [],
   "source": [
    "tmst = pd.DataFrame()\n",
    "points['sample_time'] = points.start\n",
    "points['sample_time'] += pd.to_timedelta(points['delta_time'])\n",
    "points.drop('start', 1)\n",
    "points.drop('delta_time', 1)\n",
    "points.drop('path_time', 1)"
   ]
  },
  {
   "cell_type": "code",
   "execution_count": 44,
   "metadata": {},
   "outputs": [],
   "source": []
  },
  {
   "cell_type": "code",
   "execution_count": null,
   "metadata": {},
   "outputs": [],
   "source": []
  }
 ],
 "metadata": {
  "kernelspec": {
   "display_name": "Python 3",
   "language": "python",
   "name": "python3"
  },
  "language_info": {
   "codemirror_mode": {
    "name": "ipython",
    "version": 3
   },
   "file_extension": ".py",
   "mimetype": "text/x-python",
   "name": "python",
   "nbconvert_exporter": "python",
   "pygments_lexer": "ipython3",
   "version": "3.7.0"
  }
 },
 "nbformat": 4,
 "nbformat_minor": 2
}
