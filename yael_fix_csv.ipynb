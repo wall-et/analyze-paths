{
 "cells": [
  {
   "cell_type": "code",
   "execution_count": 1,
   "metadata": {},
   "outputs": [],
   "source": [
    "%matplotlib inline\n",
    "import pandas as pd"
   ]
  },
  {
   "cell_type": "code",
   "execution_count": 2,
   "metadata": {},
   "outputs": [
    {
     "data": {
      "text/html": [
       "<style>body {\n",
       "    margin: 0;\n",
       "    font-family: Helvetica;\n",
       "}\n",
       "table.dataframe {\n",
       "    border-collapse: collapse;\n",
       "    border: none;\n",
       "}\n",
       "table.dataframe tr {\n",
       "    border: none;\n",
       "}\n",
       "table.dataframe td, table.dataframe th {\n",
       "    margin: 0;\n",
       "    border: 1px solid white;\n",
       "    padding-left: 0.25em;\n",
       "    padding-right: 0.25em;\n",
       "}\n",
       "table.dataframe th:not(:empty) {\n",
       "    background-color: #fec;\n",
       "    text-align: left;\n",
       "    font-weight: normal;\n",
       "}\n",
       "table.dataframe tr:nth-child(2) th:empty {\n",
       "    border-left: none;\n",
       "    border-right: 1px dashed #888;\n",
       "}\n",
       "table.dataframe td {\n",
       "    border: 2px solid #ccf;\n",
       "    background-color: #f4f4ff;\n",
       "}\n",
       "h3 {\n",
       "    color: white;\n",
       "    background-color: black;\n",
       "    padding: 0.5em;\n",
       "}\n",
       "</style>"
      ],
      "text/plain": [
       "<IPython.core.display.HTML object>"
      ]
     },
     "execution_count": 2,
     "metadata": {},
     "output_type": "execute_result"
    }
   ],
   "source": [
    "from IPython.core.display import HTML\n",
    "css = open('style-table.css').read() + open('style-notebook.css').read()\n",
    "HTML('<style>{}</style>'.format(css))"
   ]
  },
  {
   "cell_type": "code",
   "execution_count": 9,
   "metadata": {},
   "outputs": [
    {
     "name": "stdout",
     "output_type": "stream",
     "text": [
      "Wall time: 16.8 s\n"
     ]
    }
   ],
   "source": [
    "%%time\n",
    "col_names=[\"frame\", \"x\", \"y\", \"obj\",\"size\",\"seq\",\"tbd1\",\"tbd2\",\"tbd3\",\"filename\",\"start\",\"path_time\",\"delta_time\",\"tbd4\"]\n",
    "df = pd.read_csv('data/odd.csv' ,parse_dates=['start'], usecols = ['frame','x','y','obj','size','seq','filename','start','path_time','delta_time'],names = col_names)\n",
    "df.head(10)\n"
   ]
  },
  {
   "cell_type": "code",
   "execution_count": null,
   "metadata": {},
   "outputs": [],
   "source": []
  },
  {
   "cell_type": "code",
   "execution_count": null,
   "metadata": {},
   "outputs": [],
   "source": []
  },
  {
   "cell_type": "code",
   "execution_count": null,
   "metadata": {},
   "outputs": [],
   "source": []
  },
  {
   "cell_type": "code",
   "execution_count": 10,
   "metadata": {},
   "outputs": [
    {
     "name": "stdout",
     "output_type": "stream",
     "text": [
      "<class 'pandas.core.frame.DataFrame'>\n",
      "RangeIndex: 2997979 entries, 0 to 2997978\n",
      "Data columns (total 10 columns):\n",
      "frame         int64\n",
      "x             int64\n",
      "y             int64\n",
      "obj           int64\n",
      "size          int64\n",
      "seq           int64\n",
      "filename      object\n",
      "start         datetime64[ns]\n",
      "path_time     object\n",
      "delta_time    object\n",
      "dtypes: datetime64[ns](1), int64(6), object(3)\n",
      "memory usage: 554.6 MB\n",
      "Wall time: 1.03 s\n"
     ]
    }
   ],
   "source": [
    "%%time\n",
    "df.info(memory_usage='deep')"
   ]
  },
  {
   "cell_type": "code",
   "execution_count": null,
   "metadata": {},
   "outputs": [],
   "source": []
  },
  {
   "cell_type": "code",
   "execution_count": 6,
   "metadata": {},
   "outputs": [],
   "source": []
  },
  {
   "cell_type": "code",
   "execution_count": 11,
   "metadata": {},
   "outputs": [
    {
     "name": "stdout",
     "output_type": "stream",
     "text": [
      "Wall time: 2.08 s\n"
     ]
    },
    {
     "data": {
      "text/html": [
       "<div>\n",
       "<style scoped>\n",
       "    .dataframe tbody tr th:only-of-type {\n",
       "        vertical-align: middle;\n",
       "    }\n",
       "\n",
       "    .dataframe tbody tr th {\n",
       "        vertical-align: top;\n",
       "    }\n",
       "\n",
       "    .dataframe thead th {\n",
       "        text-align: right;\n",
       "    }\n",
       "</style>\n",
       "<table border=\"1\" class=\"dataframe\">\n",
       "  <thead>\n",
       "    <tr style=\"text-align: right;\">\n",
       "      <th></th>\n",
       "      <th>frame</th>\n",
       "      <th>x</th>\n",
       "      <th>y</th>\n",
       "      <th>obj</th>\n",
       "      <th>size</th>\n",
       "      <th>seq</th>\n",
       "    </tr>\n",
       "  </thead>\n",
       "  <tbody>\n",
       "    <tr>\n",
       "      <th>count</th>\n",
       "      <td>2.997979e+06</td>\n",
       "      <td>2.997979e+06</td>\n",
       "      <td>2.997979e+06</td>\n",
       "      <td>2.997979e+06</td>\n",
       "      <td>2.997979e+06</td>\n",
       "      <td>2.997979e+06</td>\n",
       "    </tr>\n",
       "    <tr>\n",
       "      <th>mean</th>\n",
       "      <td>8.289598e+03</td>\n",
       "      <td>2.730162e+02</td>\n",
       "      <td>1.480890e+02</td>\n",
       "      <td>5.053650e+01</td>\n",
       "      <td>4.675812e+07</td>\n",
       "      <td>1.158957e+02</td>\n",
       "    </tr>\n",
       "    <tr>\n",
       "      <th>std</th>\n",
       "      <td>5.189150e+03</td>\n",
       "      <td>1.609973e+02</td>\n",
       "      <td>7.650773e+01</td>\n",
       "      <td>8.449936e+01</td>\n",
       "      <td>3.391170e+07</td>\n",
       "      <td>1.502103e+02</td>\n",
       "    </tr>\n",
       "    <tr>\n",
       "      <th>min</th>\n",
       "      <td>0.000000e+00</td>\n",
       "      <td>3.000000e+00</td>\n",
       "      <td>3.000000e+00</td>\n",
       "      <td>0.000000e+00</td>\n",
       "      <td>3.620000e+02</td>\n",
       "      <td>0.000000e+00</td>\n",
       "    </tr>\n",
       "    <tr>\n",
       "      <th>25%</th>\n",
       "      <td>3.712000e+03</td>\n",
       "      <td>1.440000e+02</td>\n",
       "      <td>9.500000e+01</td>\n",
       "      <td>1.200000e+01</td>\n",
       "      <td>1.419073e+07</td>\n",
       "      <td>1.600000e+01</td>\n",
       "    </tr>\n",
       "    <tr>\n",
       "      <th>50%</th>\n",
       "      <td>8.119000e+03</td>\n",
       "      <td>2.690000e+02</td>\n",
       "      <td>1.340000e+02</td>\n",
       "      <td>2.800000e+01</td>\n",
       "      <td>4.510348e+07</td>\n",
       "      <td>5.900000e+01</td>\n",
       "    </tr>\n",
       "    <tr>\n",
       "      <th>75%</th>\n",
       "      <td>1.263600e+04</td>\n",
       "      <td>4.020000e+02</td>\n",
       "      <td>2.050000e+02</td>\n",
       "      <td>5.100000e+01</td>\n",
       "      <td>5.399656e+07</td>\n",
       "      <td>1.620000e+02</td>\n",
       "    </tr>\n",
       "    <tr>\n",
       "      <th>max</th>\n",
       "      <td>1.847600e+04</td>\n",
       "      <td>6.370000e+02</td>\n",
       "      <td>3.570000e+02</td>\n",
       "      <td>6.430000e+02</td>\n",
       "      <td>1.265195e+08</td>\n",
       "      <td>1.977000e+03</td>\n",
       "    </tr>\n",
       "  </tbody>\n",
       "</table>\n",
       "</div>"
      ],
      "text/plain": [
       "              frame             x             y           obj          size  \\\n",
       "count  2.997979e+06  2.997979e+06  2.997979e+06  2.997979e+06  2.997979e+06   \n",
       "mean   8.289598e+03  2.730162e+02  1.480890e+02  5.053650e+01  4.675812e+07   \n",
       "std    5.189150e+03  1.609973e+02  7.650773e+01  8.449936e+01  3.391170e+07   \n",
       "min    0.000000e+00  3.000000e+00  3.000000e+00  0.000000e+00  3.620000e+02   \n",
       "25%    3.712000e+03  1.440000e+02  9.500000e+01  1.200000e+01  1.419073e+07   \n",
       "50%    8.119000e+03  2.690000e+02  1.340000e+02  2.800000e+01  4.510348e+07   \n",
       "75%    1.263600e+04  4.020000e+02  2.050000e+02  5.100000e+01  5.399656e+07   \n",
       "max    1.847600e+04  6.370000e+02  3.570000e+02  6.430000e+02  1.265195e+08   \n",
       "\n",
       "                seq  \n",
       "count  2.997979e+06  \n",
       "mean   1.158957e+02  \n",
       "std    1.502103e+02  \n",
       "min    0.000000e+00  \n",
       "25%    1.600000e+01  \n",
       "50%    5.900000e+01  \n",
       "75%    1.620000e+02  \n",
       "max    1.977000e+03  "
      ]
     },
     "execution_count": 11,
     "metadata": {},
     "output_type": "execute_result"
    }
   ],
   "source": [
    "%%time\n",
    "df.describe()\n"
   ]
  },
  {
   "cell_type": "code",
   "execution_count": 12,
   "metadata": {},
   "outputs": [
    {
     "name": "stdout",
     "output_type": "stream",
     "text": [
      "<class 'pandas.core.frame.DataFrame'>\n",
      "RangeIndex: 2997979 entries, 0 to 2997978\n",
      "Data columns (total 10 columns):\n",
      "frame         int64\n",
      "x             int64\n",
      "y             int64\n",
      "obj           int64\n",
      "size          int64\n",
      "seq           int64\n",
      "filename      object\n",
      "start         datetime64[ns]\n",
      "path_time     object\n",
      "delta_time    object\n",
      "dtypes: datetime64[ns](1), int64(6), object(3)\n",
      "memory usage: 554.6 MB\n"
     ]
    }
   ],
   "source": [
    "df.info(memory_usage='deep')\n"
   ]
  },
  {
   "cell_type": "code",
   "execution_count": 13,
   "metadata": {},
   "outputs": [
    {
     "name": "stdout",
     "output_type": "stream",
     "text": [
      "0     14-16\\20170817012709_100.h264.txt\n",
      "1     14-16\\20170817012709_100.h264.txt\n",
      "2     14-16\\20170817012709_100.h264.txt\n",
      "3     14-16\\20170817012709_100.h264.txt\n",
      "4     14-16\\20170817012709_100.h264.txt\n",
      "Name: filename, dtype: object\n",
      "0     14-16\\20170817012709_100.h264.txt\n",
      "1     14-16\\20170817012709_100.h264.txt\n",
      "2     14-16\\20170817012709_100.h264.txt\n",
      "3     14-16\\20170817012709_100.h264.txt\n",
      "4     14-16\\20170817012709_100.h264.txt\n",
      "Name: filename, dtype: category\n",
      "Categories (602, object): [-16\\20170820143029_100.h264.txt, .h264.txt, 0.h264.txt, 0003141_100.h264.txt, ..., v10014-16\\20170824043058_100.h264.txt, v10014-16\\20170824083405_100.h264.txt, v10014-16\\20170824122055_100.h264.txt, v10014-16\\20170822142906_100.h264.txt]\n"
     ]
    }
   ],
   "source": [
    "gl_obj = df.select_dtypes(include=['object']).copy()\n",
    "gl_obj.describe()\n",
    "\n",
    "dow = gl_obj.filename\n",
    "print(dow.head())\n",
    "\n",
    "dow_cat = dow.astype('category')\n",
    "print(dow_cat.head())"
   ]
  },
  {
   "cell_type": "code",
   "execution_count": 14,
   "metadata": {},
   "outputs": [
    {
     "name": "stdout",
     "output_type": "stream",
     "text": [
      "180.03 MB\n",
      "5.77 MB\n"
     ]
    }
   ],
   "source": [
    "dow_cat.head().cat.codes\n",
    "\n",
    "\n",
    "# We're going to be calculating memory usage a lot,\n",
    "# so we'll create a function to save us some time!\n",
    "\n",
    "def mem_usage(pandas_obj):\n",
    "    if isinstance(pandas_obj,pd.DataFrame):\n",
    "        usage_b = pandas_obj.memory_usage(deep=True).sum()\n",
    "    else: # we assume if not a df it's a series\n",
    "        usage_b = pandas_obj.memory_usage(deep=True)\n",
    "    usage_mb = usage_b / 1024 ** 2 # convert bytes to megabytes\n",
    "    return \"{:03.2f} MB\".format(usage_mb)\n",
    "\n",
    "\n",
    "\n",
    "print(mem_usage(dow))\n",
    "print(mem_usage(dow_cat))"
   ]
  },
  {
   "cell_type": "code",
   "execution_count": 15,
   "metadata": {},
   "outputs": [
    {
     "name": "stdout",
     "output_type": "stream",
     "text": [
      "22.87 MB\n"
     ]
    },
    {
     "data": {
      "text/plain": [
       "0    0\n",
       "1    0\n",
       "2    0\n",
       "3    0\n",
       "4    0\n",
       "Name: frame, dtype: int64"
      ]
     },
     "execution_count": 15,
     "metadata": {},
     "output_type": "execute_result"
    }
   ],
   "source": [
    "optimized_gl = df.copy()\n",
    "date = optimized_gl.frame\n",
    "print(mem_usage(date))\n",
    "date.head()\n"
   ]
  },
  {
   "cell_type": "code",
   "execution_count": 16,
   "metadata": {},
   "outputs": [
    {
     "name": "stdout",
     "output_type": "stream",
     "text": [
      "Wall time: 0 ns\n"
     ]
    },
    {
     "data": {
      "text/html": [
       "<div>\n",
       "<style scoped>\n",
       "    .dataframe tbody tr th:only-of-type {\n",
       "        vertical-align: middle;\n",
       "    }\n",
       "\n",
       "    .dataframe tbody tr th {\n",
       "        vertical-align: top;\n",
       "    }\n",
       "\n",
       "    .dataframe thead th {\n",
       "        text-align: right;\n",
       "    }\n",
       "</style>\n",
       "<table border=\"1\" class=\"dataframe\">\n",
       "  <thead>\n",
       "    <tr style=\"text-align: right;\">\n",
       "      <th></th>\n",
       "      <th>frame</th>\n",
       "      <th>x</th>\n",
       "      <th>y</th>\n",
       "      <th>obj</th>\n",
       "      <th>size</th>\n",
       "      <th>seq</th>\n",
       "      <th>filename</th>\n",
       "      <th>start</th>\n",
       "      <th>path_time</th>\n",
       "      <th>delta_time</th>\n",
       "    </tr>\n",
       "  </thead>\n",
       "  <tbody>\n",
       "    <tr>\n",
       "      <th>0</th>\n",
       "      <td>0</td>\n",
       "      <td>14</td>\n",
       "      <td>329</td>\n",
       "      <td>0</td>\n",
       "      <td>362</td>\n",
       "      <td>0</td>\n",
       "      <td>14-16\\20170817012709_100.h264.txt</td>\n",
       "      <td>2017-08-17 01:27:09</td>\n",
       "      <td>01:27:09</td>\n",
       "      <td>0:00:00</td>\n",
       "    </tr>\n",
       "    <tr>\n",
       "      <th>1</th>\n",
       "      <td>0</td>\n",
       "      <td>4</td>\n",
       "      <td>291</td>\n",
       "      <td>1</td>\n",
       "      <td>362</td>\n",
       "      <td>0</td>\n",
       "      <td>14-16\\20170817012709_100.h264.txt</td>\n",
       "      <td>2017-08-17 01:27:09</td>\n",
       "      <td>01:27:09</td>\n",
       "      <td>0:00:00</td>\n",
       "    </tr>\n",
       "    <tr>\n",
       "      <th>2</th>\n",
       "      <td>0</td>\n",
       "      <td>629</td>\n",
       "      <td>7</td>\n",
       "      <td>2</td>\n",
       "      <td>362</td>\n",
       "      <td>0</td>\n",
       "      <td>14-16\\20170817012709_100.h264.txt</td>\n",
       "      <td>2017-08-17 01:27:09</td>\n",
       "      <td>01:27:09</td>\n",
       "      <td>0:00:00</td>\n",
       "    </tr>\n",
       "    <tr>\n",
       "      <th>3</th>\n",
       "      <td>0</td>\n",
       "      <td>253</td>\n",
       "      <td>4</td>\n",
       "      <td>3</td>\n",
       "      <td>362</td>\n",
       "      <td>0</td>\n",
       "      <td>14-16\\20170817012709_100.h264.txt</td>\n",
       "      <td>2017-08-17 01:27:09</td>\n",
       "      <td>01:27:09</td>\n",
       "      <td>0:00:00</td>\n",
       "    </tr>\n",
       "    <tr>\n",
       "      <th>4</th>\n",
       "      <td>0</td>\n",
       "      <td>185</td>\n",
       "      <td>4</td>\n",
       "      <td>4</td>\n",
       "      <td>362</td>\n",
       "      <td>0</td>\n",
       "      <td>14-16\\20170817012709_100.h264.txt</td>\n",
       "      <td>2017-08-17 01:27:09</td>\n",
       "      <td>01:27:09</td>\n",
       "      <td>0:00:00</td>\n",
       "    </tr>\n",
       "    <tr>\n",
       "      <th>5</th>\n",
       "      <td>1700</td>\n",
       "      <td>5</td>\n",
       "      <td>102</td>\n",
       "      <td>5</td>\n",
       "      <td>362</td>\n",
       "      <td>0</td>\n",
       "      <td>14-16\\20170817012709_100.h264.txt</td>\n",
       "      <td>2017-08-17 01:27:09</td>\n",
       "      <td>01:28:17</td>\n",
       "      <td>0:01:08</td>\n",
       "    </tr>\n",
       "    <tr>\n",
       "      <th>6</th>\n",
       "      <td>1701</td>\n",
       "      <td>6</td>\n",
       "      <td>102</td>\n",
       "      <td>5</td>\n",
       "      <td>362</td>\n",
       "      <td>1</td>\n",
       "      <td>14-16\\20170817012709_100.h264.txt</td>\n",
       "      <td>2017-08-17 01:27:09</td>\n",
       "      <td>01:28:17</td>\n",
       "      <td>0:01:08</td>\n",
       "    </tr>\n",
       "    <tr>\n",
       "      <th>7</th>\n",
       "      <td>1702</td>\n",
       "      <td>6</td>\n",
       "      <td>102</td>\n",
       "      <td>5</td>\n",
       "      <td>362</td>\n",
       "      <td>2</td>\n",
       "      <td>14-16\\20170817012709_100.h264.txt</td>\n",
       "      <td>2017-08-17 01:27:09</td>\n",
       "      <td>01:28:17</td>\n",
       "      <td>0:01:08</td>\n",
       "    </tr>\n",
       "    <tr>\n",
       "      <th>8</th>\n",
       "      <td>1703</td>\n",
       "      <td>7</td>\n",
       "      <td>102</td>\n",
       "      <td>5</td>\n",
       "      <td>362</td>\n",
       "      <td>3</td>\n",
       "      <td>14-16\\20170817012709_100.h264.txt</td>\n",
       "      <td>2017-08-17 01:27:09</td>\n",
       "      <td>01:28:17</td>\n",
       "      <td>0:01:08</td>\n",
       "    </tr>\n",
       "    <tr>\n",
       "      <th>9</th>\n",
       "      <td>1704</td>\n",
       "      <td>9</td>\n",
       "      <td>102</td>\n",
       "      <td>5</td>\n",
       "      <td>362</td>\n",
       "      <td>4</td>\n",
       "      <td>14-16\\20170817012709_100.h264.txt</td>\n",
       "      <td>2017-08-17 01:27:09</td>\n",
       "      <td>01:28:17</td>\n",
       "      <td>0:01:08</td>\n",
       "    </tr>\n",
       "  </tbody>\n",
       "</table>\n",
       "</div>"
      ],
      "text/plain": [
       "   frame    x    y  obj  size  seq                            filename  \\\n",
       "0      0   14  329    0   362    0   14-16\\20170817012709_100.h264.txt   \n",
       "1      0    4  291    1   362    0   14-16\\20170817012709_100.h264.txt   \n",
       "2      0  629    7    2   362    0   14-16\\20170817012709_100.h264.txt   \n",
       "3      0  253    4    3   362    0   14-16\\20170817012709_100.h264.txt   \n",
       "4      0  185    4    4   362    0   14-16\\20170817012709_100.h264.txt   \n",
       "5   1700    5  102    5   362    0   14-16\\20170817012709_100.h264.txt   \n",
       "6   1701    6  102    5   362    1   14-16\\20170817012709_100.h264.txt   \n",
       "7   1702    6  102    5   362    2   14-16\\20170817012709_100.h264.txt   \n",
       "8   1703    7  102    5   362    3   14-16\\20170817012709_100.h264.txt   \n",
       "9   1704    9  102    5   362    4   14-16\\20170817012709_100.h264.txt   \n",
       "\n",
       "                start  path_time delta_time  \n",
       "0 2017-08-17 01:27:09   01:27:09    0:00:00  \n",
       "1 2017-08-17 01:27:09   01:27:09    0:00:00  \n",
       "2 2017-08-17 01:27:09   01:27:09    0:00:00  \n",
       "3 2017-08-17 01:27:09   01:27:09    0:00:00  \n",
       "4 2017-08-17 01:27:09   01:27:09    0:00:00  \n",
       "5 2017-08-17 01:27:09   01:28:17    0:01:08  \n",
       "6 2017-08-17 01:27:09   01:28:17    0:01:08  \n",
       "7 2017-08-17 01:27:09   01:28:17    0:01:08  \n",
       "8 2017-08-17 01:27:09   01:28:17    0:01:08  \n",
       "9 2017-08-17 01:27:09   01:28:17    0:01:08  "
      ]
     },
     "execution_count": 16,
     "metadata": {},
     "output_type": "execute_result"
    }
   ],
   "source": [
    "%%time\n",
    "df.head(10)"
   ]
  },
  {
   "cell_type": "raw",
   "metadata": {},
   "source": []
  },
  {
   "cell_type": "code",
   "execution_count": 24,
   "metadata": {},
   "outputs": [
    {
     "data": {
      "text/plain": [
       "start\n",
       "2017-08-17 01:27:09      7311\n",
       "2017-08-17 01:42:25      9902\n",
       "2017-08-17 01:57:38    120780\n",
       "2017-08-17 02:12:50      5034\n",
       "2017-08-17 02:28:03      4961\n",
       "2017-08-17 02:43:14      4042\n",
       "2017-08-17 02:58:24      9170\n",
       "2017-08-17 03:13:37      6694\n",
       "2017-08-17 03:28:49      6448\n",
       "2017-08-17 03:44:03      2371\n",
       "2017-08-17 03:59:13      2392\n",
       "2017-08-17 04:14:23      2465\n",
       "2017-08-17 04:29:40      2730\n",
       "2017-08-17 04:45:12      2562\n",
       "2017-08-17 05:00:24       627\n",
       "2017-08-17 05:15:36      2908\n",
       "2017-08-17 05:30:48      1728\n",
       "2017-08-17 05:46:01      1619\n",
       "2017-08-17 06:01:15       330\n",
       "2017-08-17 06:16:30       712\n",
       "2017-08-17 06:31:49       503\n",
       "2017-08-17 06:47:02         5\n",
       "2017-08-17 07:02:14         9\n",
       "2017-08-17 07:17:25         3\n",
       "2017-08-17 07:32:37       859\n",
       "2017-08-17 07:48:15       808\n",
       "2017-08-17 08:03:27         5\n",
       "2017-08-17 08:18:51         5\n",
       "2017-08-17 08:34:05         4\n",
       "2017-08-17 08:49:19         3\n",
       "                        ...  \n",
       "2017-08-24 08:18:53      5519\n",
       "2017-08-24 08:33:08     26717\n",
       "2017-08-24 08:34:05      2354\n",
       "2017-08-24 08:48:19     21960\n",
       "2017-08-24 09:03:34     15062\n",
       "2017-08-24 09:18:50      8205\n",
       "2017-08-24 09:33:59      6465\n",
       "2017-08-24 09:49:08      8136\n",
       "2017-08-24 10:04:18      6036\n",
       "2017-08-24 10:19:27      9373\n",
       "2017-08-24 10:34:36     10835\n",
       "2017-08-24 10:49:46     14765\n",
       "2017-08-24 11:04:55     12385\n",
       "2017-08-24 11:20:05      8522\n",
       "2017-08-24 11:35:16      4601\n",
       "2017-08-24 11:50:30     11360\n",
       "2017-08-24 12:05:45      5856\n",
       "2017-08-24 12:20:55     18283\n",
       "2017-08-24 12:36:04      9447\n",
       "2017-08-24 12:51:14     11880\n",
       "2017-08-24 13:06:23     12884\n",
       "2017-08-24 13:21:33      5010\n",
       "2017-08-24 13:36:42     10574\n",
       "2017-08-24 13:51:52      9971\n",
       "2017-08-24 14:07:03      8742\n",
       "2017-08-24 14:22:14      5687\n",
       "2017-08-24 14:37:29      4049\n",
       "2017-08-24 14:52:44      6584\n",
       "2017-08-24 15:07:53      2306\n",
       "2017-08-24 15:23:02      3585\n",
       "Length: 489, dtype: int64"
      ]
     },
     "execution_count": 24,
     "metadata": {},
     "output_type": "execute_result"
    }
   ],
   "source": [
    "df.groupby(df.start).size()"
   ]
  },
  {
   "cell_type": "code",
   "execution_count": null,
   "metadata": {},
   "outputs": [],
   "source": []
  }
 ],
 "metadata": {
  "kernelspec": {
   "display_name": "Python 3",
   "language": "python",
   "name": "python3"
  },
  "language_info": {
   "codemirror_mode": {
    "name": "ipython",
    "version": 3
   },
   "file_extension": ".py",
   "mimetype": "text/x-python",
   "name": "python",
   "nbconvert_exporter": "python",
   "pygments_lexer": "ipython3",
   "version": "3.7.0"
  }
 },
 "nbformat": 4,
 "nbformat_minor": 2
}
